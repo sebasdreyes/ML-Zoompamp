{
 "cells": [
  {
   "cell_type": "markdown",
   "metadata": {},
   "source": [
    "# ML-ZC Homework 1\n"
   ]
  },
  {
   "cell_type": "code",
   "execution_count": 93,
   "metadata": {},
   "outputs": [
    {
     "name": "stdout",
     "output_type": "stream",
     "text": [
      "Requirement already satisfied: numpy in /Library/Frameworks/Python.framework/Versions/3.10/lib/python3.10/site-packages (1.26.4)\n",
      "Requirement already satisfied: pandas in /Library/Frameworks/Python.framework/Versions/3.10/lib/python3.10/site-packages (2.0.3)\n",
      "Requirement already satisfied: matplotlib in /Library/Frameworks/Python.framework/Versions/3.10/lib/python3.10/site-packages (3.8.4)\n",
      "Requirement already satisfied: seaborn in /Library/Frameworks/Python.framework/Versions/3.10/lib/python3.10/site-packages (0.13.2)\n",
      "Requirement already satisfied: python-dateutil>=2.8.2 in /Users/sebastianreyes/Library/Python/3.10/lib/python/site-packages (from pandas) (2.8.2)\n",
      "Requirement already satisfied: pytz>=2020.1 in /Library/Frameworks/Python.framework/Versions/3.10/lib/python3.10/site-packages (from pandas) (2024.2)\n",
      "Requirement already satisfied: tzdata>=2022.1 in /Library/Frameworks/Python.framework/Versions/3.10/lib/python3.10/site-packages (from pandas) (2024.1)\n",
      "Requirement already satisfied: contourpy>=1.0.1 in /Library/Frameworks/Python.framework/Versions/3.10/lib/python3.10/site-packages (from matplotlib) (1.2.1)\n",
      "Requirement already satisfied: cycler>=0.10 in /Library/Frameworks/Python.framework/Versions/3.10/lib/python3.10/site-packages (from matplotlib) (0.12.1)\n",
      "Requirement already satisfied: fonttools>=4.22.0 in /Library/Frameworks/Python.framework/Versions/3.10/lib/python3.10/site-packages (from matplotlib) (4.53.1)\n",
      "Requirement already satisfied: kiwisolver>=1.3.1 in /Library/Frameworks/Python.framework/Versions/3.10/lib/python3.10/site-packages (from matplotlib) (1.4.7)\n",
      "Requirement already satisfied: packaging>=20.0 in /Users/sebastianreyes/Library/Python/3.10/lib/python/site-packages (from matplotlib) (21.3)\n",
      "Requirement already satisfied: pillow>=8 in /Library/Frameworks/Python.framework/Versions/3.10/lib/python3.10/site-packages (from matplotlib) (10.4.0)\n",
      "Requirement already satisfied: pyparsing>=2.3.1 in /Users/sebastianreyes/Library/Python/3.10/lib/python/site-packages (from matplotlib) (3.0.9)\n",
      "Requirement already satisfied: six>=1.5 in /Users/sebastianreyes/Library/Python/3.10/lib/python/site-packages (from python-dateutil>=2.8.2->pandas) (1.16.0)\n",
      "Note: you may need to restart the kernel to use updated packages.\n"
     ]
    }
   ],
   "source": [
    "pip install numpy pandas matplotlib seaborn\n"
   ]
  },
  {
   "cell_type": "code",
   "execution_count": null,
   "metadata": {},
   "outputs": [],
   "source": [
    "import requests\n",
    "\n",
    "url = \"https://raw.githubusercontent.com/alexeygrigorev/datasets/master/laptops.csv\"\n",
    "response = requests.get(url)\n",
    "\n",
    "with open('laptops.csv', 'wb') as file:\n",
    "    file.write(response.content)\n",
    "\n",
    "# Load the CSV file into a DataFrame\n",
    "file_path = '/Users/sebastianreyes/Documents/3 Carrera/Proyectos/Portafolio/machinelearning/laptops.csv'  # Replace with your actual file path\n",
    "laptops_data = pd.read_csv(file_path)"
   ]
  },
  {
   "cell_type": "markdown",
   "metadata": {},
   "source": [
    "# Q1. Pandas version"
   ]
  },
  {
   "cell_type": "code",
   "execution_count": 94,
   "metadata": {},
   "outputs": [
    {
     "name": "stdout",
     "output_type": "stream",
     "text": [
      "2.0.3\n"
     ]
    }
   ],
   "source": [
    "import pandas as pd\n",
    "print(pd.__version__)"
   ]
  },
  {
   "cell_type": "markdown",
   "metadata": {},
   "source": [
    "# Q2. Records count\n"
   ]
  },
  {
   "cell_type": "code",
   "execution_count": 15,
   "metadata": {},
   "outputs": [
    {
     "name": "stdout",
     "output_type": "stream",
     "text": [
      "Number of records: 2160\n"
     ]
    }
   ],
   "source": [
    "number_of_records = laptops_data.shape[0]\n",
    "print(\"Number of records:\", number_of_records)"
   ]
  },
  {
   "cell_type": "markdown",
   "metadata": {},
   "source": [
    "# Q3. Laptop brands"
   ]
  },
  {
   "cell_type": "code",
   "execution_count": 20,
   "metadata": {},
   "outputs": [
    {
     "name": "stdout",
     "output_type": "stream",
     "text": [
      "Unique brands and their counts:\n",
      " Brand\n",
      "Asus                415\n",
      "HP                  368\n",
      "Lenovo              366\n",
      "MSI                 308\n",
      "Acer                137\n",
      "Apple               116\n",
      "Dell                 84\n",
      "Microsoft            77\n",
      "Gigabyte             48\n",
      "Razer                37\n",
      "Medion               32\n",
      "LG                   32\n",
      "Alurin               29\n",
      "PcCom                24\n",
      "Samsung              22\n",
      "Dynabook Toshiba     19\n",
      "Vant                 11\n",
      "Primux                8\n",
      "Deep Gaming           8\n",
      "Innjoo                6\n",
      "Thomson               4\n",
      "Prixton               3\n",
      "Millenium             2\n",
      "Denver                1\n",
      "Jetwing               1\n",
      "Realme                1\n",
      "Toshiba               1\n",
      "Name: count, dtype: int64\n",
      "\n",
      "Total number of unique brands: 27\n"
     ]
    }
   ],
   "source": [
    "# Count unique values in the 'Brand' column and show each unique value with its count\n",
    "unique_brands_count = laptops_data['Brand'].value_counts()\n",
    "\n",
    "# Displaying the unique values and their counts\n",
    "print(\"Unique brands and their counts:\\n\", unique_brands_count)\n",
    "\n",
    "# Count of unique brands\n",
    "total_unique_brands = unique_brands_count.count()\n",
    "print(\"\\nTotal number of unique brands:\", total_unique_brands)"
   ]
  },
  {
   "cell_type": "markdown",
   "metadata": {},
   "source": [
    "# Q4. Missing values"
   ]
  },
  {
   "cell_type": "code",
   "execution_count": 35,
   "metadata": {},
   "outputs": [
    {
     "name": "stdout",
     "output_type": "stream",
     "text": [
      "Missing values in each column:\n",
      " Laptop             0\n",
      "Status             0\n",
      "Brand              0\n",
      "Model              0\n",
      "CPU                0\n",
      "RAM                0\n",
      "Storage            0\n",
      "Storage type      42\n",
      "GPU             1371\n",
      "Screen             4\n",
      "Touch              0\n",
      "Final Price        0\n",
      "dtype: int64\n",
      "Total missing values in the DataFrame: 1417\n"
     ]
    }
   ],
   "source": [
    "# Count missing values in each column\n",
    "missing_values_count = laptops_data.isnull().sum()\n",
    "print(\"Missing values in each column:\\n\", missing_values_count)\n",
    "\n",
    "# Total count of missing values in the entire DataFrame\n",
    "total_missing_values = laptops_data.isnull().sum().sum()\n",
    "print(\"Total missing values in the DataFrame:\", total_missing_values)\n"
   ]
  },
  {
   "cell_type": "markdown",
   "metadata": {},
   "source": [
    "# Q5. Maximum final price"
   ]
  },
  {
   "cell_type": "code",
   "execution_count": 24,
   "metadata": {},
   "outputs": [
    {
     "name": "stdout",
     "output_type": "stream",
     "text": [
      "Maximum Final Price: 7150.47\n",
      "Maximum Final Price for Dell laptops: 3936.0\n"
     ]
    }
   ],
   "source": [
    "# Find the maximum value in the \"Final Price\" column\n",
    "max_final_price = laptops_data['Final Price'].max()\n",
    "\n",
    "print(\"Maximum Final Price:\", max_final_price)\n",
    "\n",
    "# Filter the DataFrame for the brand \"Dell\"\n",
    "dell_laptops = laptops_data[laptops_data['Brand'] == 'Dell']\n",
    "\n",
    "# Find the maximum value in the \"Final Price\" column for Dell laptops\n",
    "max_final_price_dell = dell_laptops['Final Price'].max()\n",
    "\n",
    "print(\"Maximum Final Price for Dell laptops:\", max_final_price_dell)"
   ]
  },
  {
   "cell_type": "markdown",
   "metadata": {},
   "source": [
    "# Q6. Median value of Screen"
   ]
  },
  {
   "cell_type": "code",
   "execution_count": 61,
   "metadata": {},
   "outputs": [
    {
     "name": "stdout",
     "output_type": "stream",
     "text": [
      "Median value of Screen: 15.6\n",
      "\n",
      "Frequency of each value in Screen (including NA):\n",
      " Screen\n",
      "15.60    1009\n",
      "14.00     392\n",
      "16.00     174\n",
      "17.30     161\n",
      "13.30     131\n",
      "16.10      48\n",
      "17.00      33\n",
      "13.00      27\n",
      "15.00      21\n",
      "13.40      19\n",
      "13.50      19\n",
      "11.60      16\n",
      "14.20      14\n",
      "12.30      13\n",
      "14.10      11\n",
      "13.60      11\n",
      "16.20      10\n",
      "15.30       8\n",
      "10.50       7\n",
      "14.40       6\n",
      "12.40       6\n",
      "15.40       5\n",
      "NaN         4\n",
      "12.00       4\n",
      "14.50       3\n",
      "18.00       3\n",
      "13.90       2\n",
      "12.50       1\n",
      "10.10       1\n",
      "10.95       1\n",
      "Name: count, dtype: int64\n"
     ]
    }
   ],
   "source": [
    "# 1. Find the median value of the \"Screen\" column\n",
    "median_screen = laptops_data['Screen'].median()\n",
    "print(\"Median value of Screen:\", median_screen)\n",
    "\n",
    "# 2. Calculate the frequency of each value in the \"Screen\" column, including NA values\n",
    "screen_frequency = laptops_data['Screen'].value_counts(dropna=False)\n",
    "print(\"\\nFrequency of each value in Screen (including NA):\\n\", screen_frequency)\n",
    "\n",
    "# 3. Fill missing values in the \"Screen\" column with the most frequent value\n",
    "laptops_data['Screen'].fillna(most_frequent_screen, inplace=True)\n",
    "\n"
   ]
  },
  {
   "cell_type": "code",
   "execution_count": 62,
   "metadata": {},
   "outputs": [
    {
     "name": "stdout",
     "output_type": "stream",
     "text": [
      "Median value of Screen: 15.6\n",
      "\n",
      "Frequency of each value in Screen (including NA):\n",
      " Screen\n",
      "15.60    1013\n",
      "14.00     392\n",
      "16.00     174\n",
      "17.30     161\n",
      "13.30     131\n",
      "16.10      48\n",
      "17.00      33\n",
      "13.00      27\n",
      "15.00      21\n",
      "13.50      19\n",
      "13.40      19\n",
      "11.60      16\n",
      "14.20      14\n",
      "12.30      13\n",
      "14.10      11\n",
      "13.60      11\n",
      "16.20      10\n",
      "15.30       8\n",
      "10.50       7\n",
      "14.40       6\n",
      "12.40       6\n",
      "15.40       5\n",
      "12.00       4\n",
      "18.00       3\n",
      "14.50       3\n",
      "13.90       2\n",
      "12.50       1\n",
      "10.10       1\n",
      "10.95       1\n",
      "Name: count, dtype: int64\n"
     ]
    }
   ],
   "source": [
    "# 4. Find the median value of the \"Screen\" column again\n",
    "median_screen = laptops_data['Screen'].median()\n",
    "print(\"Median value of Screen:\", median_screen)\n",
    "\n",
    "# Calculate the frequency of each value in the \"Screen\" column, including NA values\n",
    "screen_frequency = laptops_data['Screen'].value_counts(dropna=False)\n",
    "print(\"\\nFrequency of each value in Screen (including NA):\\n\", screen_frequency)"
   ]
  },
  {
   "cell_type": "code",
   "execution_count": 63,
   "metadata": {},
   "outputs": [
    {
     "data": {
      "image/png": "[encoded data removed]",
      "text/plain": [
       "<Figure size 1000x600 with 1 Axes>"
      ]
     },
     "metadata": {},
     "output_type": "display_data"
    }
   ],
   "source": [
    "\n",
    "# Set the style of seaborn\n",
    "sns.set(style=\"whitegrid\")\n",
    "\n",
    "# Calculate the median value of the \"Screen\" column\n",
    "median_screen = laptops_data['Screen'].median()\n",
    "\n",
    "# Plotting the distribution of the \"Screen\" column\n",
    "plt.figure(figsize=(10, 6))\n",
    "sns.histplot(laptops_data['Screen'], bins=20, kde=True, color='blue', stat='density')\n",
    "\n",
    "# Add a vertical line for the median\n",
    "plt.axvline(median_screen, color='red', linestyle='--', label=f'Median: {median_screen}')\n",
    "\n",
    "# Adding titles and labels\n",
    "plt.title('Distribution of Screen Sizes')\n",
    "plt.xlabel('Screen Size')\n",
    "plt.ylabel('Density')\n",
    "plt.legend()\n",
    "\n",
    "# Show the plot\n",
    "plt.show()"
   ]
  },
  {
   "cell_type": "markdown",
   "metadata": {},
   "source": [
    "# Q7. Sum of weights"
   ]
  },
  {
   "cell_type": "code",
   "execution_count": 92,
   "metadata": {},
   "outputs": [
    {
     "name": "stdout",
     "output_type": "stream",
     "text": [
      "Result w:\n",
      " [45.58076606  0.42783519 45.29127938]\n",
      "Sum of results w: 91.29988062995636\n"
     ]
    }
   ],
   "source": [
    "\n",
    "# Select all \"Innjoo\" laptops and only relevant columns\n",
    "X_df = laptops_data[laptops_data['Brand'] == 'Innjoo'][['RAM', 'Storage', 'Screen']]\n",
    "\n",
    "# Convert selected columns to numeric, coercing errors to NaN\n",
    "X_df['RAM'] = pd.to_numeric(X_df['RAM'], errors='coerce')\n",
    "X_df['Storage'] = pd.to_numeric(X_df['Storage'], errors='coerce')\n",
    "X_df['Screen'] = pd.to_numeric(X_df['Screen'], errors='coerce')\n",
    "\n",
    "# Drop rows with NaN values\n",
    "X_df = X_df.dropna()\n",
    "\n",
    "# Convert the DataFrame to a NumPy array\n",
    "X = X_df.to_numpy()\n",
    "\n",
    "# Check if the resulting X array has enough rows\n",
    "if X.size == 0 or X.shape[0] < 2:  # Check size of the array\n",
    "    print(\"Not enough data to perform matrix operations.\")\n",
    "else:\n",
    "    # Compute the transpose of X\n",
    "    X_T = X.T\n",
    "\n",
    "    # Compute XTX (X_T * X)\n",
    "    XTX = np.dot(X_T, X)\n",
    "\n",
    "    # Compute the inverse of XTX\n",
    "    try:\n",
    "        XTX_inv = np.linalg.inv(XTX)\n",
    "    except np.linalg.LinAlgError:\n",
    "        print(\"Matrix is singular and cannot be inverted.\")\n",
    "        XTX_inv = None\n",
    "\n",
    "    if XTX_inv is not None:\n",
    "        # Create an array y with specified values\n",
    "        y = np.array([1100, 1300, 800, 900, 1000, 1100])\n",
    "\n",
    "        # Multiply the inverse of XTX with the transpose of X and then by y\n",
    "        w = np.dot(XTX_inv, np.dot(X_T, y))\n",
    "\n",
    "        # Display the result w\n",
    "        print(\"Result w:\\n\", w)\n",
    "\n",
    "        # Sum all the results in w\n",
    "        sum_w = np.sum(w)\n",
    "        print(\"Sum of results w:\", sum_w)"
   ]
  }
 ],
 "metadata": {
  "kernelspec": {
   "display_name": "Python 3",
   "language": "python",
   "name": "python3"
  },
  "language_info": {
   "codemirror_mode": {
    "name": "ipython",
    "version": 3
   },
   "file_extension": ".py",
   "mimetype": "text/x-python",
   "name": "python",
   "nbconvert_exporter": "python",
   "pygments_lexer": "ipython3",
   "version": "3.10.7"
  }
 },
 "nbformat": 4,
 "nbformat_minor": 2
}
