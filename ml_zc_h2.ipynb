{
 "cells": [
  {
   "cell_type": "markdown",
   "metadata": {},
   "source": [
    "# ML-ZC Homework 1"
   ]
  },
  {
   "cell_type": "code",
   "execution_count": 8,
   "metadata": {},
   "outputs": [
    {
     "data": {
      "text/html": [
       "<div>\n",
       "<style scoped>\n",
       "    .dataframe tbody tr th:only-of-type {\n",
       "        vertical-align: middle;\n",
       "    }\n",
       "\n",
       "    .dataframe tbody tr th {\n",
       "        vertical-align: top;\n",
       "    }\n",
       "\n",
       "    .dataframe thead th {\n",
       "        text-align: right;\n",
       "    }\n",
       "</style>\n",
       "<table border=\"1\" class=\"dataframe\">\n",
       "  <thead>\n",
       "    <tr style=\"text-align: right;\">\n",
       "      <th></th>\n",
       "      <th>Laptop</th>\n",
       "      <th>Status</th>\n",
       "      <th>Brand</th>\n",
       "      <th>Model</th>\n",
       "      <th>CPU</th>\n",
       "      <th>RAM</th>\n",
       "      <th>Storage</th>\n",
       "      <th>Storage type</th>\n",
       "      <th>GPU</th>\n",
       "      <th>Screen</th>\n",
       "      <th>Touch</th>\n",
       "      <th>Final Price</th>\n",
       "    </tr>\n",
       "  </thead>\n",
       "  <tbody>\n",
       "    <tr>\n",
       "      <th>0</th>\n",
       "      <td>ASUS ExpertBook B1 B1502CBA-EJ0436X Intel Core...</td>\n",
       "      <td>New</td>\n",
       "      <td>Asus</td>\n",
       "      <td>ExpertBook</td>\n",
       "      <td>Intel Core i5</td>\n",
       "      <td>8</td>\n",
       "      <td>512</td>\n",
       "      <td>SSD</td>\n",
       "      <td>NaN</td>\n",
       "      <td>15.6</td>\n",
       "      <td>No</td>\n",
       "      <td>1009.00</td>\n",
       "    </tr>\n",
       "    <tr>\n",
       "      <th>1</th>\n",
       "      <td>Alurin Go Start Intel Celeron N4020/8GB/256GB ...</td>\n",
       "      <td>New</td>\n",
       "      <td>Alurin</td>\n",
       "      <td>Go</td>\n",
       "      <td>Intel Celeron</td>\n",
       "      <td>8</td>\n",
       "      <td>256</td>\n",
       "      <td>SSD</td>\n",
       "      <td>NaN</td>\n",
       "      <td>15.6</td>\n",
       "      <td>No</td>\n",
       "      <td>299.00</td>\n",
       "    </tr>\n",
       "    <tr>\n",
       "      <th>2</th>\n",
       "      <td>ASUS ExpertBook B1 B1502CBA-EJ0424X Intel Core...</td>\n",
       "      <td>New</td>\n",
       "      <td>Asus</td>\n",
       "      <td>ExpertBook</td>\n",
       "      <td>Intel Core i3</td>\n",
       "      <td>8</td>\n",
       "      <td>256</td>\n",
       "      <td>SSD</td>\n",
       "      <td>NaN</td>\n",
       "      <td>15.6</td>\n",
       "      <td>No</td>\n",
       "      <td>789.00</td>\n",
       "    </tr>\n",
       "    <tr>\n",
       "      <th>3</th>\n",
       "      <td>MSI Katana GF66 12UC-082XES Intel Core i7-1270...</td>\n",
       "      <td>New</td>\n",
       "      <td>MSI</td>\n",
       "      <td>Katana</td>\n",
       "      <td>Intel Core i7</td>\n",
       "      <td>16</td>\n",
       "      <td>1000</td>\n",
       "      <td>SSD</td>\n",
       "      <td>RTX 3050</td>\n",
       "      <td>15.6</td>\n",
       "      <td>No</td>\n",
       "      <td>1199.00</td>\n",
       "    </tr>\n",
       "    <tr>\n",
       "      <th>4</th>\n",
       "      <td>HP 15S-FQ5085NS Intel Core i5-1235U/16GB/512GB...</td>\n",
       "      <td>New</td>\n",
       "      <td>HP</td>\n",
       "      <td>15S</td>\n",
       "      <td>Intel Core i5</td>\n",
       "      <td>16</td>\n",
       "      <td>512</td>\n",
       "      <td>SSD</td>\n",
       "      <td>NaN</td>\n",
       "      <td>15.6</td>\n",
       "      <td>No</td>\n",
       "      <td>669.01</td>\n",
       "    </tr>\n",
       "  </tbody>\n",
       "</table>\n",
       "</div>"
      ],
      "text/plain": [
       "                                              Laptop Status   Brand  \\\n",
       "0  ASUS ExpertBook B1 B1502CBA-EJ0436X Intel Core...    New    Asus   \n",
       "1  Alurin Go Start Intel Celeron N4020/8GB/256GB ...    New  Alurin   \n",
       "2  ASUS ExpertBook B1 B1502CBA-EJ0424X Intel Core...    New    Asus   \n",
       "3  MSI Katana GF66 12UC-082XES Intel Core i7-1270...    New     MSI   \n",
       "4  HP 15S-FQ5085NS Intel Core i5-1235U/16GB/512GB...    New      HP   \n",
       "\n",
       "        Model            CPU  RAM  Storage Storage type       GPU  Screen  \\\n",
       "0  ExpertBook  Intel Core i5    8      512          SSD       NaN    15.6   \n",
       "1          Go  Intel Celeron    8      256          SSD       NaN    15.6   \n",
       "2  ExpertBook  Intel Core i3    8      256          SSD       NaN    15.6   \n",
       "3      Katana  Intel Core i7   16     1000          SSD  RTX 3050    15.6   \n",
       "4         15S  Intel Core i5   16      512          SSD       NaN    15.6   \n",
       "\n",
       "  Touch  Final Price  \n",
       "0    No      1009.00  \n",
       "1    No       299.00  \n",
       "2    No       789.00  \n",
       "3    No      1199.00  \n",
       "4    No       669.01  "
      ]
     },
     "execution_count": 8,
     "metadata": {},
     "output_type": "execute_result"
    }
   ],
   "source": [
    "import pandas as pd\n",
    "import ssl\n",
    "\n",
    "# Disable SSL certificate verification\n",
    "ssl._create_default_https_context = ssl._create_unverified_context\n",
    "\n",
    "# Load the dataset from the URL\n",
    "url = \"https://raw.githubusercontent.com/alexeygrigorev/datasets/master/laptops.csv\"\n",
    "laptops_df = pd.read_csv(url)\n",
    "\n",
    "# Display the first few rows to confirm\n",
    "laptops_df.head()\n",
    "\n"
   ]
  },
  {
   "cell_type": "code",
   "execution_count": 10,
   "metadata": {},
   "outputs": [
    {
     "data": {
      "text/plain": [
       "Index(['laptop', 'status', 'brand', 'model', 'cpu', 'ram', 'storage',\n",
       "       'storage_type', 'gpu', 'screen', 'touch', 'final_price'],\n",
       "      dtype='object')"
      ]
     },
     "execution_count": 10,
     "metadata": {},
     "output_type": "execute_result"
    }
   ],
   "source": [
    "# Update the column names by converting to lowercase and replacing spaces with underscores\n",
    "laptops_df.columns = laptops_df.columns.str.lower().str.replace(' ', '_')\n",
    "\n",
    "# Display the updated column names to confirm the changes\n",
    "laptops_df.columns\n"
   ]
  },
  {
   "cell_type": "code",
   "execution_count": 11,
   "metadata": {},
   "outputs": [
    {
     "data": {
      "text/html": [
       "<div>\n",
       "<style scoped>\n",
       "    .dataframe tbody tr th:only-of-type {\n",
       "        vertical-align: middle;\n",
       "    }\n",
       "\n",
       "    .dataframe tbody tr th {\n",
       "        vertical-align: top;\n",
       "    }\n",
       "\n",
       "    .dataframe thead th {\n",
       "        text-align: right;\n",
       "    }\n",
       "</style>\n",
       "<table border=\"1\" class=\"dataframe\">\n",
       "  <thead>\n",
       "    <tr style=\"text-align: right;\">\n",
       "      <th></th>\n",
       "      <th>ram</th>\n",
       "      <th>storage</th>\n",
       "      <th>screen</th>\n",
       "      <th>final_price</th>\n",
       "    </tr>\n",
       "  </thead>\n",
       "  <tbody>\n",
       "    <tr>\n",
       "      <th>0</th>\n",
       "      <td>8</td>\n",
       "      <td>512</td>\n",
       "      <td>15.6</td>\n",
       "      <td>1009.00</td>\n",
       "    </tr>\n",
       "    <tr>\n",
       "      <th>1</th>\n",
       "      <td>8</td>\n",
       "      <td>256</td>\n",
       "      <td>15.6</td>\n",
       "      <td>299.00</td>\n",
       "    </tr>\n",
       "    <tr>\n",
       "      <th>2</th>\n",
       "      <td>8</td>\n",
       "      <td>256</td>\n",
       "      <td>15.6</td>\n",
       "      <td>789.00</td>\n",
       "    </tr>\n",
       "    <tr>\n",
       "      <th>3</th>\n",
       "      <td>16</td>\n",
       "      <td>1000</td>\n",
       "      <td>15.6</td>\n",
       "      <td>1199.00</td>\n",
       "    </tr>\n",
       "    <tr>\n",
       "      <th>4</th>\n",
       "      <td>16</td>\n",
       "      <td>512</td>\n",
       "      <td>15.6</td>\n",
       "      <td>669.01</td>\n",
       "    </tr>\n",
       "  </tbody>\n",
       "</table>\n",
       "</div>"
      ],
      "text/plain": [
       "   ram  storage  screen  final_price\n",
       "0    8      512    15.6      1009.00\n",
       "1    8      256    15.6       299.00\n",
       "2    8      256    15.6       789.00\n",
       "3   16     1000    15.6      1199.00\n",
       "4   16      512    15.6       669.01"
      ]
     },
     "execution_count": 11,
     "metadata": {},
     "output_type": "execute_result"
    }
   ],
   "source": [
    "# Select only the specified columns: 'ram', 'storage', 'screen', and 'final_price'\n",
    "laptops_selected_columns = laptops_df[['ram', 'storage', 'screen', 'final_price']]\n",
    "\n",
    "# Display the first few rows of the new dataframe to confirm\n",
    "laptops_selected_columns.head()\n"
   ]
  },
  {
   "cell_type": "code",
   "execution_count": 13,
   "metadata": {},
   "outputs": [
    {
     "data": {
      "image/png": "[encoded data removed]",
      "text/plain": [
       "<Figure size 800x600 with 1 Axes>"
      ]
     },
     "metadata": {},
     "output_type": "display_data"
    },
    {
     "name": "stdout",
     "output_type": "stream",
     "text": [
      "Mean: 1312.638509259259, Median: 1031.9450000000002\n"
     ]
    },
    {
     "data": {
      "image/png": "[encoded data removed]",
      "text/plain": [
       "<Figure size 800x600 with 1 Axes>"
      ]
     },
     "metadata": {},
     "output_type": "display_data"
    }
   ],
   "source": [
    "# First, standardize the column names (lowercase and replace spaces with underscores)\n",
    "laptops_df.columns = laptops_df.columns.str.lower().str.replace(' ', '_')\n",
    "\n",
    "# Now, try plotting the histogram again with the corrected column name\n",
    "import matplotlib.pyplot as plt\n",
    "import seaborn as sns\n",
    "\n",
    "# Plot a histogram for the 'final_price' column\n",
    "plt.figure(figsize=(8, 6))\n",
    "sns.histplot(laptops_df['final_price'], bins=30, kde=True)\n",
    "plt.title('Distribution of Final Price')\n",
    "plt.xlabel('Final Price')\n",
    "plt.ylabel('Frequency')\n",
    "plt.show()\n",
    "\n",
    "# Summary statistics (mean, median)\n",
    "mean_price = laptops_df['final_price'].mean()\n",
    "median_price = laptops_df['final_price'].median()\n",
    "\n",
    "print(f\"Mean: {mean_price}, Median: {median_price}\")\n",
    "\n",
    "# Box plot to detect outliers\n",
    "plt.figure(figsize=(8, 6))\n",
    "sns.boxplot(x=laptops_df['final_price'])\n",
    "plt.title('Box Plot of Final Price')\n",
    "plt.show()\n"
   ]
  },
  {
   "cell_type": "markdown",
   "metadata": {},
   "source": [
    "# Q1 Missing values"
   ]
  },
  {
   "cell_type": "code",
   "execution_count": 14,
   "metadata": {},
   "outputs": [
    {
     "name": "stdout",
     "output_type": "stream",
     "text": [
      "storage_type      42\n",
      "gpu             1371\n",
      "screen             4\n",
      "dtype: int64\n"
     ]
    }
   ],
   "source": [
    "# Check for missing values in each column\n",
    "missing_values = laptops_df.isnull().sum()\n",
    "\n",
    "# Display columns that have missing values\n",
    "print(missing_values[missing_values > 0])\n"
   ]
  },
  {
   "cell_type": "markdown",
   "metadata": {},
   "source": [
    "# Q2 Median of RAM"
   ]
  },
  {
   "cell_type": "code",
   "execution_count": 16,
   "metadata": {},
   "outputs": [
    {
     "name": "stdout",
     "output_type": "stream",
     "text": [
      "The median (50th percentile) for RAM is: 16.0 GB\n"
     ]
    }
   ],
   "source": [
    "# Calculate the median of the 'ram' column (in lowercase)\n",
    "ram_median = laptops_df['ram'].median()\n",
    "\n",
    "print(f\"The median (50th percentile) for RAM is: {ram_median} GB\")\n"
   ]
  },
  {
   "cell_type": "code",
   "execution_count": 17,
   "metadata": {},
   "outputs": [
    {
     "data": {
      "text/html": [
       "<div>\n",
       "<style scoped>\n",
       "    .dataframe tbody tr th:only-of-type {\n",
       "        vertical-align: middle;\n",
       "    }\n",
       "\n",
       "    .dataframe tbody tr th {\n",
       "        vertical-align: top;\n",
       "    }\n",
       "\n",
       "    .dataframe thead th {\n",
       "        text-align: right;\n",
       "    }\n",
       "</style>\n",
       "<table border=\"1\" class=\"dataframe\">\n",
       "  <thead>\n",
       "    <tr style=\"text-align: right;\">\n",
       "      <th></th>\n",
       "      <th>laptop</th>\n",
       "      <th>status</th>\n",
       "      <th>brand</th>\n",
       "      <th>model</th>\n",
       "      <th>cpu</th>\n",
       "      <th>ram</th>\n",
       "      <th>storage</th>\n",
       "      <th>storage_type</th>\n",
       "      <th>gpu</th>\n",
       "      <th>screen</th>\n",
       "      <th>touch</th>\n",
       "      <th>final_price</th>\n",
       "    </tr>\n",
       "  </thead>\n",
       "  <tbody>\n",
       "    <tr>\n",
       "      <th>0</th>\n",
       "      <td>MSI Modern 15 A11SBU-620XES Intel Core i7-1165...</td>\n",
       "      <td>Refurbished</td>\n",
       "      <td>MSI</td>\n",
       "      <td>Modern</td>\n",
       "      <td>Intel Core i7</td>\n",
       "      <td>32</td>\n",
       "      <td>1000</td>\n",
       "      <td>SSD</td>\n",
       "      <td>MX 450</td>\n",
       "      <td>15.6</td>\n",
       "      <td>No</td>\n",
       "      <td>1123.29</td>\n",
       "    </tr>\n",
       "    <tr>\n",
       "      <th>1</th>\n",
       "      <td>Thomson Neo White Intel Celeron N4020/4GB/64GB...</td>\n",
       "      <td>New</td>\n",
       "      <td>Thomson</td>\n",
       "      <td>Neo</td>\n",
       "      <td>Intel Celeron</td>\n",
       "      <td>4</td>\n",
       "      <td>64</td>\n",
       "      <td>eMMC</td>\n",
       "      <td>NaN</td>\n",
       "      <td>14.1</td>\n",
       "      <td>No</td>\n",
       "      <td>201.05</td>\n",
       "    </tr>\n",
       "    <tr>\n",
       "      <th>2</th>\n",
       "      <td>MSI Modern 14 B11SB-420XES Intel Core i7-1165G...</td>\n",
       "      <td>Refurbished</td>\n",
       "      <td>MSI</td>\n",
       "      <td>Modern</td>\n",
       "      <td>Intel Core i7</td>\n",
       "      <td>32</td>\n",
       "      <td>1000</td>\n",
       "      <td>SSD</td>\n",
       "      <td>MX 450</td>\n",
       "      <td>14.0</td>\n",
       "      <td>No</td>\n",
       "      <td>997.74</td>\n",
       "    </tr>\n",
       "    <tr>\n",
       "      <th>3</th>\n",
       "      <td>ASUS ZenBook 13 OLED UX325EA Intel Evo Core i7...</td>\n",
       "      <td>New</td>\n",
       "      <td>Asus</td>\n",
       "      <td>ZenBook</td>\n",
       "      <td>Intel Evo Core i7</td>\n",
       "      <td>16</td>\n",
       "      <td>512</td>\n",
       "      <td>SSD</td>\n",
       "      <td>NaN</td>\n",
       "      <td>13.3</td>\n",
       "      <td>No</td>\n",
       "      <td>1016.00</td>\n",
       "    </tr>\n",
       "    <tr>\n",
       "      <th>4</th>\n",
       "      <td>Acer Predator Triton 500 SE PT516-51s-75K6 Int...</td>\n",
       "      <td>New</td>\n",
       "      <td>Acer</td>\n",
       "      <td>Predator</td>\n",
       "      <td>Intel Core i7</td>\n",
       "      <td>32</td>\n",
       "      <td>1000</td>\n",
       "      <td>SSD</td>\n",
       "      <td>RTX 3080</td>\n",
       "      <td>16.0</td>\n",
       "      <td>No</td>\n",
       "      <td>2739.00</td>\n",
       "    </tr>\n",
       "  </tbody>\n",
       "</table>\n",
       "</div>"
      ],
      "text/plain": [
       "                                              laptop       status    brand  \\\n",
       "0  MSI Modern 15 A11SBU-620XES Intel Core i7-1165...  Refurbished      MSI   \n",
       "1  Thomson Neo White Intel Celeron N4020/4GB/64GB...          New  Thomson   \n",
       "2  MSI Modern 14 B11SB-420XES Intel Core i7-1165G...  Refurbished      MSI   \n",
       "3  ASUS ZenBook 13 OLED UX325EA Intel Evo Core i7...          New     Asus   \n",
       "4  Acer Predator Triton 500 SE PT516-51s-75K6 Int...          New     Acer   \n",
       "\n",
       "      model                cpu  ram  storage storage_type       gpu  screen  \\\n",
       "0    Modern      Intel Core i7   32     1000          SSD    MX 450    15.6   \n",
       "1       Neo      Intel Celeron    4       64         eMMC       NaN    14.1   \n",
       "2    Modern      Intel Core i7   32     1000          SSD    MX 450    14.0   \n",
       "3   ZenBook  Intel Evo Core i7   16      512          SSD       NaN    13.3   \n",
       "4  Predator      Intel Core i7   32     1000          SSD  RTX 3080    16.0   \n",
       "\n",
       "  touch  final_price  \n",
       "0    No      1123.29  \n",
       "1    No       201.05  \n",
       "2    No       997.74  \n",
       "3    No      1016.00  \n",
       "4    No      2739.00  "
      ]
     },
     "execution_count": 17,
     "metadata": {},
     "output_type": "execute_result"
    }
   ],
   "source": [
    "# Shuffle the dataset with a random seed of 42\n",
    "shuffled_laptops_df = laptops_df.sample(frac=1, random_state=42).reset_index(drop=True)\n",
    "\n",
    "# Display the first few rows of the shuffled dataframe to confirm\n",
    "shuffled_laptops_df.head()\n"
   ]
  },
  {
   "cell_type": "code",
   "execution_count": 18,
   "metadata": {},
   "outputs": [
    {
     "name": "stdout",
     "output_type": "stream",
     "text": [
      "Training set size: 1296\n",
      "Validation set size: 432\n",
      "Test set size: 432\n"
     ]
    }
   ],
   "source": [
    "from sklearn.model_selection import train_test_split\n",
    "\n",
    "# First, split the data into training and temporary sets (60% train, 40% temporary)\n",
    "train_set, temp_set = train_test_split(laptops_df, test_size=0.4, random_state=42)\n",
    "\n",
    "# Then, split the temporary set into validation and test sets (50% of 40% each)\n",
    "val_set, test_set = train_test_split(temp_set, test_size=0.5, random_state=42)\n",
    "\n",
    "# Display the sizes of each set\n",
    "print(f\"Training set size: {len(train_set)}\")\n",
    "print(f\"Validation set size: {len(val_set)}\")\n",
    "print(f\"Test set size: {len(test_set)}\")\n"
   ]
  },
  {
   "cell_type": "markdown",
   "metadata": {},
   "source": [
    "# Question 3"
   ]
  },
  {
   "cell_type": "code",
   "execution_count": 21,
   "metadata": {},
   "outputs": [
    {
     "name": "stdout",
     "output_type": "stream",
     "text": [
      "laptop           object\n",
      "status           object\n",
      "brand            object\n",
      "model            object\n",
      "cpu              object\n",
      "ram               int64\n",
      "storage           int64\n",
      "storage_type     object\n",
      "gpu              object\n",
      "screen          float64\n",
      "touch            object\n",
      "final_price     float64\n",
      "dtype: object\n",
      "Train Set with Mean Values:\n",
      "                                                 laptop       status  \\\n",
      "1357  Gigabyte AERO 17 XE5-73PT738HP Intel Core i7-1...          New   \n",
      "1055  Samsung Chromebook 4 XE310XBA-K01ES Intel Cele...          New   \n",
      "513   MSI Stealth 14 Studio A13VE-052XES Intel Core ...          New   \n",
      "81    HP Victus 15-fa0026ns Intel Core i5-12450H/16G...          New   \n",
      "1803  Asus Rog Zephyrus G15 GA502IV-HN024 AMD Ryzen ...  Refurbished   \n",
      "\n",
      "         brand       model            cpu  ram  storage storage_type  \\\n",
      "1357  Gigabyte        Aero  Intel Core i7   16     2000          SSD   \n",
      "1055   Samsung  Chromebook  Intel Celeron    4       32         eMMC   \n",
      "513        MSI     Stealth  Intel Core i7   16     1000          SSD   \n",
      "81          HP      Victus  Intel Core i5   16      512          SSD   \n",
      "1803      Asus         ROG    AMD Ryzen 7   16     1000          SSD   \n",
      "\n",
      "           gpu  screen touch  final_price  \n",
      "1357  RTX 3070    17.3    No      2228.59  \n",
      "1055       NaN    11.6    No       365.90  \n",
      "513   RTX 4050    14.0    No      1989.01  \n",
      "81    GTX 1650    15.6    No       999.00  \n",
      "1803  RTX 2060    15.6    No      1091.09  \n",
      "\n",
      "Train Set with Zero Values:\n",
      "                                                 laptop       status  \\\n",
      "1357  Gigabyte AERO 17 XE5-73PT738HP Intel Core i7-1...          New   \n",
      "1055  Samsung Chromebook 4 XE310XBA-K01ES Intel Cele...          New   \n",
      "513   MSI Stealth 14 Studio A13VE-052XES Intel Core ...          New   \n",
      "81    HP Victus 15-fa0026ns Intel Core i5-12450H/16G...          New   \n",
      "1803  Asus Rog Zephyrus G15 GA502IV-HN024 AMD Ryzen ...  Refurbished   \n",
      "\n",
      "         brand       model            cpu  ram  storage storage_type  \\\n",
      "1357  Gigabyte        Aero  Intel Core i7   16     2000          SSD   \n",
      "1055   Samsung  Chromebook  Intel Celeron    4       32         eMMC   \n",
      "513        MSI     Stealth  Intel Core i7   16     1000          SSD   \n",
      "81          HP      Victus  Intel Core i5   16      512          SSD   \n",
      "1803      Asus         ROG    AMD Ryzen 7   16     1000          SSD   \n",
      "\n",
      "           gpu  screen touch  final_price  \n",
      "1357  RTX 3070    17.3    No      2228.59  \n",
      "1055       NaN    11.6    No       365.90  \n",
      "513   RTX 4050    14.0    No      1989.01  \n",
      "81    GTX 1650    15.6    No       999.00  \n",
      "1803  RTX 2060    15.6    No      1091.09  \n"
     ]
    }
   ],
   "source": [
    "# Check the data types of the training dataset\n",
    "print(train_set.dtypes)\n",
    "\n",
    "# Select only numeric columns to calculate mean and fill missing values\n",
    "numeric_columns = train_set.select_dtypes(include=['float64', 'int64']).columns\n",
    "\n",
    "# Duplicate the training dataset\n",
    "train_set_mean = train_set.copy()  # For replacing with mean\n",
    "train_set_zero = train_set.copy()   # For replacing with zero\n",
    "\n",
    "# Calculate the mean for each numeric column in the training set\n",
    "mean_values = train_set_mean[numeric_columns].mean()\n",
    "\n",
    "# Replace missing values in the first dataset with the mean values\n",
    "train_set_mean[numeric_columns] = train_set_mean[numeric_columns].fillna(mean_values)\n",
    "\n",
    "# Replace missing values in the second dataset with zero for numeric columns\n",
    "train_set_zero[numeric_columns] = train_set_zero[numeric_columns].fillna(0)\n",
    "\n",
    "# Optionally, display the first few rows to confirm changes\n",
    "print(\"Train Set with Mean Values:\")\n",
    "print(train_set_mean.head())\n",
    "\n",
    "print(\"\\nTrain Set with Zero Values:\")\n",
    "print(train_set_zero.head())\n"
   ]
  },
  {
   "cell_type": "code",
   "execution_count": 22,
   "metadata": {},
   "outputs": [
    {
     "name": "stdout",
     "output_type": "stream",
     "text": [
      "RMSE for the model with mean replacement: 684.07248803113\n",
      "RMSE for the model with zero replacement: 684.089743558418\n"
     ]
    }
   ],
   "source": [
    "from sklearn.linear_model import LinearRegression\n",
    "from sklearn.metrics import mean_squared_error\n",
    "import numpy as np\n",
    "\n",
    "# Prepare the features (X) and target (y) for the models\n",
    "# Assume 'final_price' is the target variable and the rest are features\n",
    "features = ['ram', 'storage', 'screen']  # Adjust features as needed\n",
    "target = 'final_price'\n",
    "\n",
    "# Prepare X and y for the first model (mean values)\n",
    "X_train_mean = train_set_mean[features]\n",
    "y_train_mean = train_set_mean[target]\n",
    "X_test = test_set[features]  # Use the same features for the test set\n",
    "y_test = test_set[target]\n",
    "\n",
    "# Train the linear regression model with mean values\n",
    "model_mean = LinearRegression()\n",
    "model_mean.fit(X_train_mean, y_train_mean)\n",
    "\n",
    "# Make predictions on the test set\n",
    "y_pred_mean = model_mean.predict(X_test)\n",
    "\n",
    "# Calculate RMSE for the model with mean replacement\n",
    "rmse_mean = np.sqrt(mean_squared_error(y_test, y_pred_mean))\n",
    "\n",
    "# Prepare X and y for the second model (zero values)\n",
    "X_train_zero = train_set_zero[features]\n",
    "y_train_zero = train_set_zero[target]\n",
    "\n",
    "# Train the linear regression model with zero values\n",
    "model_zero = LinearRegression()\n",
    "model_zero.fit(X_train_zero, y_train_zero)\n",
    "\n",
    "# Make predictions on the test set\n",
    "y_pred_zero = model_zero.predict(X_test)\n",
    "\n",
    "# Calculate RMSE for the model with zero replacement\n",
    "rmse_zero = np.sqrt(mean_squared_error(y_test, y_pred_zero))\n",
    "\n",
    "# Display the RMSE results\n",
    "print(f\"RMSE for the model with mean replacement: {rmse_mean}\")\n",
    "print(f\"RMSE for the model with zero replacement: {rmse_zero}\")\n"
   ]
  },
  {
   "cell_type": "markdown",
   "metadata": {},
   "source": [
    "# Question 4"
   ]
  },
  {
   "cell_type": "code",
   "execution_count": 23,
   "metadata": {},
   "outputs": [
    {
     "name": "stdout",
     "output_type": "stream",
     "text": [
      "RMSE for r=0: 684.09\n",
      "RMSE for r=0.01: 684.09\n",
      "RMSE for r=0.1: 684.09\n",
      "RMSE for r=1: 684.09\n",
      "RMSE for r=5: 684.08\n",
      "RMSE for r=10: 684.07\n",
      "RMSE for r=100: 683.94\n"
     ]
    }
   ],
   "source": [
    "from sklearn.linear_model import Ridge\n",
    "from sklearn.metrics import mean_squared_error\n",
    "import numpy as np\n",
    "\n",
    "# Prepare the features (X) and target (y) for the model with zero replacements\n",
    "X_train_zero = train_set_zero[features]\n",
    "y_train_zero = train_set_zero[target]\n",
    "\n",
    "# Define the regularization strengths\n",
    "r_values = [0, 0.01, 0.1, 1, 5, 10, 100]\n",
    "\n",
    "# Store RMSE values for each r\n",
    "rmse_results = []\n",
    "\n",
    "# Train and evaluate Ridge regression for each r value\n",
    "for r in r_values:\n",
    "    # Create and train the model\n",
    "    model_ridge = Ridge(alpha=r)\n",
    "    model_ridge.fit(X_train_zero, y_train_zero)\n",
    "    \n",
    "    # Make predictions on the test set\n",
    "    y_pred_zero = model_ridge.predict(X_test)\n",
    "    \n",
    "    # Calculate RMSE and round to two decimals\n",
    "    rmse_zero = np.sqrt(mean_squared_error(y_test, y_pred_zero))\n",
    "    rmse_results.append(round(rmse_zero, 2))\n",
    "\n",
    "# Display the RMSE results for each r\n",
    "for r, rmse in zip(r_values, rmse_results):\n",
    "    print(f\"RMSE for r={r}: {rmse}\")\n"
   ]
  },
  {
   "cell_type": "markdown",
   "metadata": {},
   "source": [
    "# Question 5"
   ]
  },
  {
   "cell_type": "code",
   "execution_count": 25,
   "metadata": {},
   "outputs": [
    {
     "name": "stdout",
     "output_type": "stream",
     "text": [
      "Standard deviation of RMSE scores: 25.473\n"
     ]
    }
   ],
   "source": [
    "import numpy as np\n",
    "from sklearn.model_selection import train_test_split\n",
    "from sklearn.linear_model import LinearRegression\n",
    "from sklearn.metrics import mean_squared_error\n",
    "\n",
    "# Initialize an empty list to collect RMSE scores\n",
    "rmse_scores = []\n",
    "\n",
    "# Define the seeds\n",
    "seeds = [0, 1, 2, 3, 4, 5, 6, 7, 8, 9]\n",
    "\n",
    "# Prepare the features (X) and target (y) for the model\n",
    "features = ['ram', 'storage', 'screen']  # Adjust this based on your dataset\n",
    "target = 'final_price'\n",
    "\n",
    "# Loop over each seed\n",
    "for seed in seeds:\n",
    "    # Split the dataset into train and test (60% train, 40% test)\n",
    "    train_temp_set, test_set = train_test_split(laptops_df, test_size=0.4, random_state=seed)\n",
    "    \n",
    "    # Split the train_temp_set into train and validation (60% train, 40% temp = 20% val, 20% test)\n",
    "    train_set, val_set = train_test_split(train_temp_set, test_size=0.4, random_state=seed)\n",
    "    \n",
    "    # Replace missing values with 0 in the training set\n",
    "    train_set.fillna(0, inplace=True)\n",
    "    \n",
    "    # Replace missing values with 0 in the validation set to prevent NaN in features\n",
    "    val_set.fillna(0, inplace=True)\n",
    "    \n",
    "    # Prepare features and target for training and validation\n",
    "    X_train = train_set[features]\n",
    "    y_train = train_set[target]\n",
    "    X_val = val_set[features]\n",
    "    y_val = val_set[target]\n",
    "\n",
    "    # Train a linear regression model\n",
    "    model = LinearRegression()\n",
    "    model.fit(X_train, y_train)\n",
    "\n",
    "    # Make predictions on the validation set\n",
    "    y_pred_val = model.predict(X_val)\n",
    "\n",
    "    # Calculate RMSE for the validation set\n",
    "    rmse_val = np.sqrt(mean_squared_error(y_val, y_pred_val))\n",
    "    \n",
    "    # Append the RMSE score to the list\n",
    "    rmse_scores.append(rmse_val)\n",
    "\n",
    "# Calculate the standard deviation of RMSE scores\n",
    "std_rmse = np.std(rmse_scores)\n",
    "\n",
    "# Round the standard deviation to 3 decimal places\n",
    "std_rmse_rounded = round(std_rmse, 3)\n",
    "\n",
    "# Display the standard deviation of RMSE scores\n",
    "print(f\"Standard deviation of RMSE scores: {std_rmse_rounded}\")\n"
   ]
  },
  {
   "cell_type": "markdown",
   "metadata": {},
   "source": [
    "# Question 6"
   ]
  },
  {
   "cell_type": "code",
   "execution_count": 26,
   "metadata": {},
   "outputs": [
    {
     "name": "stdout",
     "output_type": "stream",
     "text": [
      "RMSE on the test dataset: 612.863\n"
     ]
    }
   ],
   "source": [
    "import numpy as np\n",
    "from sklearn.model_selection import train_test_split\n",
    "from sklearn.linear_model import Ridge\n",
    "from sklearn.metrics import mean_squared_error\n",
    "\n",
    "# Prepare the features (X) and target (y) for the model\n",
    "features = ['ram', 'storage', 'screen']  # Adjust this based on your dataset\n",
    "target = 'final_price'\n",
    "\n",
    "# Split the dataset into train and test (60% train, 40% test) using seed 9\n",
    "train_temp_set, test_set = train_test_split(laptops_df, test_size=0.4, random_state=9)\n",
    "\n",
    "# Split the train_temp_set into train and validation (60% train, 40% temp = 20% val)\n",
    "train_set, val_set = train_test_split(train_temp_set, test_size=0.4, random_state=9)\n",
    "\n",
    "# Combine train and validation datasets\n",
    "combined_train_set = pd.concat([train_set, val_set])\n",
    "\n",
    "# Replace missing values with 0 in the combined dataset\n",
    "combined_train_set.fillna(0, inplace=True)\n",
    "\n",
    "# Prepare features and target for training\n",
    "X_train = combined_train_set[features]\n",
    "y_train = combined_train_set[target]\n",
    "\n",
    "# Prepare features for the test set (replace missing values with 0)\n",
    "test_set.fillna(0, inplace=True)\n",
    "X_test = test_set[features]\n",
    "y_test = test_set[target]\n",
    "\n",
    "# Train a Ridge regression model with r = 0.001\n",
    "model = Ridge(alpha=0.001)\n",
    "model.fit(X_train, y_train)\n",
    "\n",
    "# Make predictions on the test set\n",
    "y_pred_test = model.predict(X_test)\n",
    "\n",
    "# Calculate RMSE for the test set\n",
    "rmse_test = np.sqrt(mean_squared_error(y_test, y_pred_test))\n",
    "\n",
    "# Display the RMSE for the test dataset\n",
    "print(f\"RMSE on the test dataset: {rmse_test:.3f}\")\n"
   ]
  }
 ],
 "metadata": {
  "kernelspec": {
   "display_name": "Python 3",
   "language": "python",
   "name": "python3"
  },
  "language_info": {
   "codemirror_mode": {
    "name": "ipython",
    "version": 3
   },
   "file_extension": ".py",
   "mimetype": "text/x-python",
   "name": "python",
   "nbconvert_exporter": "python",
   "pygments_lexer": "ipython3",
   "version": "3.10.7"
  }
 },
 "nbformat": 4,
 "nbformat_minor": 2
}
