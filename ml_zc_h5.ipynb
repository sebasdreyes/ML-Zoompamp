{
 "cells": [
  {
   "cell_type": "markdown",
   "metadata": {},
   "source": [
    "# ML-ZC Homework 5"
   ]
  },
  {
   "cell_type": "markdown",
   "metadata": {},
   "source": [
    "# Question 1"
   ]
  },
  {
   "cell_type": "code",
   "execution_count": 3,
   "metadata": {},
   "outputs": [
    {
     "name": "stdout",
     "output_type": "stream",
     "text": [
      "pipenv, version 2024.2.0\n"
     ]
    }
   ],
   "source": [
    "import subprocess\n",
    "\n",
    "\n",
    "def get_pipenv_version():\n",
    "    try:\n",
    "        # Run pipenv --version command\n",
    "        result = subprocess.run(['pipenv', '--version'], capture_output=True, text=True)\n",
    "        \n",
    "        # Check if the command was successful\n",
    "        if result.returncode == 0:\n",
    "            return result.stdout.strip()\n",
    "        else:\n",
    "            return f\"Error: {result.stderr}\"\n",
    "            \n",
    "    except FileNotFoundError:\n",
    "        return \"Pipenv is not installed. Please install it first using 'pip install pipenv'\"\n",
    "\n",
    "if __name__ == \"__main__\":\n",
    "    version = get_pipenv_version()\n",
    "    print(version)"
   ]
  },
  {
   "cell_type": "markdown",
   "metadata": {},
   "source": [
    "# Question 2"
   ]
  },
  {
   "cell_type": "code",
   "execution_count": 5,
   "metadata": {},
   "outputs": [
    {
     "name": "stdout",
     "output_type": "stream",
     "text": [
      "Installing scikit-learn 1.5.2...\n"
     ]
    },
    {
     "name": "stderr",
     "output_type": "stream",
     "text": [
      "Warning: the environment variable LANG is not set!\n",
      "We recommend setting this in ~/.profile (or equivalent) for proper expected behavior.\n",
      "Creating a virtualenv for this project\n",
      "Pipfile: /Users/sebastianreyes/Documents/3 \n",
      "Carrera/Proyectos/Portafolio/machinelearning_zoomcamp/Pipfile\n",
      "Using default python from /usr/local/bin/python33.10.7 to create virtualenv...\n",
      "created virtual environment CPython3.10.7.final.0-64 in 447ms\n",
      "  creator \n",
      "CPython3Posix(dest=/Users/sebastianreyes/.local/share/virtualenvs/machinelearnin\n",
      "g_zoomcamp-axH7onbe, clear=False, no_vcs_ignore=False, global=False)\n",
      "  seeder FromAppData(download=False, pip=bundle, setuptools=bundle, \n",
      "wheel=bundle, via=copy, app_data_dir=/Users/sebastianreyes/Library/Application \n",
      "Support/virtualenv)\n",
      "    added seed packages: pip==24.2, setuptools==75.2.0, wheel==0.44.0\n",
      "  activators \n",
      "BashActivator,CShellActivator,FishActivator,NushellActivator,PowerShellActivator\n",
      ",PythonActivator\n",
      "\n",
      "✔ Successfully created virtual environment!\n",
      "Virtualenv location: /Users/sebastianreyes/.local/share/virtualenvs/machinelearning_zoomcamp-axH7onbe\n"
     ]
    },
    {
     "name": "stdout",
     "output_type": "stream",
     "text": [
      "requirements.txt found in /Users/sebastianreyes/Documents/3 \n",
      "Carrera/Proyectos/Portafolio instead of Pipfile! Converting...\n",
      "✔ Success!\n",
      "Warning: Your Pipfile now contains pinned versions, if your requirements.txt \n",
      "did. \n",
      "We recommend updating your Pipfile to specify the \"*\" version, instead.\n",
      "Building requirements...\n",
      "Resolving dependencies...\n"
     ]
    },
    {
     "name": "stderr",
     "output_type": "stream",
     "text": [
      "Pipfile.lock not found, creating...\n",
      "Locking [packages] dependencies...\n"
     ]
    },
    {
     "name": "stdout",
     "output_type": "stream",
     "text": [
      "✔ Success!\n",
      "To activate this project's virtualenv, run pipenv shell.\n",
      "Alternatively, run a command inside the virtualenv with pipenv run.\n",
      "Installing scikit-learn==1.5.2...\n",
      "✔ Installation Succeeded\n"
     ]
    },
    {
     "name": "stderr",
     "output_type": "stream",
     "text": [
      "Locking [dev-packages] dependencies...\n",
      "Updated Pipfile.lock (857e269dd5e6f9241942764fe636bf27f2950848786ca9202c3046f03b77355c)!\n"
     ]
    },
    {
     "name": "stdout",
     "output_type": "stream",
     "text": [
      "Building requirements...\n",
      "Resolving dependencies...\n",
      "✔ Success!\n",
      "Building requirements...\n",
      "Resolving dependencies...\n",
      "✔ Success!\n",
      "To activate this project's virtualenv, run pipenv shell.\n",
      "Alternatively, run a command inside the virtualenv with pipenv run.\n",
      "Installing dependencies from Pipfile.lock (77355c)...\n",
      "All dependencies are now up-to-date!\n",
      "Installing dependencies from Pipfile.lock (77355c)...\n",
      "First hash for scikit-learn: sha256:03b6158efa3faaf1feea3faa884c840ebd61b6484167c711548fce208ea09445\n"
     ]
    }
   ],
   "source": [
    "import subprocess\n",
    "import json\n",
    "import os\n",
    "\n",
    "def install_sklearn_and_get_hash():\n",
    "    try:\n",
    "        # Install scikit-learn with specific version using pipenv\n",
    "        print(\"Installing scikit-learn 1.5.2...\")\n",
    "        subprocess.run(['pipenv', 'install', 'scikit-learn==1.5.2'], check=True)\n",
    "        \n",
    "        # Read Pipfile.lock\n",
    "        if os.path.exists('Pipfile.lock'):\n",
    "            with open('Pipfile.lock', 'r') as f:\n",
    "                lockfile = json.load(f)\n",
    "                \n",
    "            # Get the first hash for scikit-learn\n",
    "            sklearn_info = lockfile.get('default', {}).get('scikit-learn', {})\n",
    "            hashes = sklearn_info.get('hashes', [])\n",
    "            \n",
    "            if hashes:\n",
    "                return f\"First hash for scikit-learn: {hashes[0]}\"\n",
    "            else:\n",
    "                return \"No hashes found for scikit-learn\"\n",
    "        else:\n",
    "            return \"Pipfile.lock not found\"\n",
    "            \n",
    "    except subprocess.CalledProcessError as e:\n",
    "        return f\"Error installing scikit-learn: {str(e)}\"\n",
    "    except Exception as e:\n",
    "        return f\"Error: {str(e)}\"\n",
    "\n",
    "if __name__ == \"__main__\":\n",
    "    result = install_sklearn_and_get_hash()\n",
    "    print(result)"
   ]
  },
  {
   "cell_type": "code",
   "execution_count": 7,
   "metadata": {},
   "outputs": [
    {
     "name": "stdout",
     "output_type": "stream",
     "text": [
      "Successfully downloaded model1.bin\n",
      "Successfully downloaded dv.bin\n"
     ]
    }
   ],
   "source": [
    "import requests\n",
    "import os\n",
    "\n",
    "def download_file(url, filename):\n",
    "    try:\n",
    "        # Send GET request to the URL\n",
    "        response = requests.get(url)\n",
    "        response.raise_for_status()  # Raise an exception for bad status codes\n",
    "        \n",
    "        # Save the content to a file\n",
    "        with open(filename, 'wb') as f:\n",
    "            f.write(response.content)\n",
    "        print(f\"Successfully downloaded {filename}\")\n",
    "        \n",
    "    except requests.exceptions.RequestException as e:\n",
    "        print(f\"Error downloading {filename}: {str(e)}\")\n",
    "\n",
    "def main():\n",
    "    # Define the prefix URL\n",
    "    prefix = \"https://raw.githubusercontent.com/DataTalksClub/machine-learning-zoomcamp/master/cohorts/2024/05-deployment/homework\"\n",
    "    \n",
    "    # List of files to download\n",
    "    files = {\n",
    "        \"model1.bin\": f\"{prefix}/model1.bin\",\n",
    "        \"dv.bin\": f\"{prefix}/dv.bin\"\n",
    "    }\n",
    "    \n",
    "    # Download each file\n",
    "    for filename, url in files.items():\n",
    "        download_file(url, filename)\n",
    "\n",
    "if __name__ == \"__main__\":\n",
    "    main()"
   ]
  },
  {
   "cell_type": "code",
   "execution_count": 8,
   "metadata": {},
   "outputs": [
    {
     "name": "stdout",
     "output_type": "stream",
     "text": [
      "Model loaded successfully\n",
      "DictVectorizer loaded successfully\n",
      "\n",
      "Model type: <class 'sklearn.linear_model._logistic.LogisticRegression'>\n",
      "DictVectorizer type: <class 'sklearn.feature_extraction._dict_vectorizer.DictVectorizer'>\n"
     ]
    }
   ],
   "source": [
    "import pickle\n",
    "\n",
    "def load_models(model_path='model1.bin', dv_path='dv.bin'):\n",
    "    try:\n",
    "        # Load the model\n",
    "        with open(model_path, 'rb') as model_file:\n",
    "            model = pickle.load(model_file)\n",
    "        print(\"Model loaded successfully\")\n",
    "        \n",
    "        # Load the DictVectorizer\n",
    "        with open(dv_path, 'rb') as dv_file:\n",
    "            dv = pickle.load(dv_file)\n",
    "        print(\"DictVectorizer loaded successfully\")\n",
    "        \n",
    "        return model, dv\n",
    "        \n",
    "    except FileNotFoundError as e:\n",
    "        print(f\"Error: File not found - {str(e)}\")\n",
    "        return None, None\n",
    "    except Exception as e:\n",
    "        print(f\"Error loading models: {str(e)}\")\n",
    "        return None, None\n",
    "\n",
    "if __name__ == \"__main__\":\n",
    "    # Load the models\n",
    "    model, dv = load_models()\n",
    "    \n",
    "    # Print some basic information about the loaded objects\n",
    "    if model is not None and dv is not None:\n",
    "        print(\"\\nModel type:\", type(model))\n",
    "        print(\"DictVectorizer type:\", type(dv))"
   ]
  },
  {
   "cell_type": "markdown",
   "metadata": {},
   "source": [
    "# Question 3"
   ]
  },
  {
   "cell_type": "code",
   "execution_count": 9,
   "metadata": {},
   "outputs": [
    {
     "name": "stdout",
     "output_type": "stream",
     "text": [
      "\n",
      "Prediction result:\n",
      "Client data: {'job': 'management', 'duration': 400, 'poutcome': 'success'}\n",
      "Probability of positive outcome: 75.91%\n"
     ]
    }
   ],
   "source": [
    "import pickle\n",
    "\n",
    "def load_models(model_path='model1.bin', dv_path='dv.bin'):\n",
    "    with open(model_path, 'rb') as model_file:\n",
    "        model = pickle.load(model_file)\n",
    "    with open(dv_path, 'rb') as dv_file:\n",
    "        dv = pickle.load(dv_file)\n",
    "    return model, dv\n",
    "\n",
    "def score_client(client_data):\n",
    "    try:\n",
    "        # Load the models\n",
    "        model, dv = load_models()\n",
    "        \n",
    "        # Transform the client data using DictVectorizer\n",
    "        X = dv.transform([client_data])\n",
    "        \n",
    "        # Make prediction\n",
    "        prediction = model.predict_proba(X)[0, 1]\n",
    "        \n",
    "        # Format the probability as a percentage\n",
    "        probability = prediction * 100\n",
    "        \n",
    "        return {\n",
    "            'client_data': client_data,\n",
    "            'probability': f\"{probability:.2f}%\"\n",
    "        }\n",
    "        \n",
    "    except Exception as e:\n",
    "        return f\"Error making prediction: {str(e)}\"\n",
    "\n",
    "if __name__ == \"__main__\":\n",
    "    # Client data\n",
    "    client = {\n",
    "        \"job\": \"management\",\n",
    "        \"duration\": 400,\n",
    "        \"poutcome\": \"success\"\n",
    "    }\n",
    "    \n",
    "    # Get the prediction\n",
    "    result = score_client(client)\n",
    "    print(\"\\nPrediction result:\")\n",
    "    print(f\"Client data: {result['client_data']}\")\n",
    "    print(f\"Probability of positive outcome: {result['probability']}\")"
   ]
  },
  {
   "cell_type": "markdown",
   "metadata": {},
   "source": [
    "# Question 4"
   ]
  },
  {
   "cell_type": "code",
   "execution_count": 11,
   "metadata": {},
   "outputs": [
    {
     "name": "stdout",
     "output_type": "stream",
     "text": [
      "Collecting flask\n",
      "  Downloading flask-3.0.3-py3-none-any.whl.metadata (3.2 kB)\n",
      "Requirement already satisfied: Werkzeug>=3.0.0 in /Library/Frameworks/Python.framework/Versions/3.10/lib/python3.10/site-packages (from flask) (3.0.4)\n",
      "Requirement already satisfied: Jinja2>=3.1.2 in /Users/sebastianreyes/Library/Python/3.10/lib/python/site-packages (from flask) (3.1.2)\n",
      "Collecting itsdangerous>=2.1.2 (from flask)\n",
      "  Downloading itsdangerous-2.2.0-py3-none-any.whl.metadata (1.9 kB)\n",
      "Collecting click>=8.1.3 (from flask)\n",
      "  Downloading click-8.1.7-py3-none-any.whl.metadata (3.0 kB)\n",
      "Collecting blinker>=1.6.2 (from flask)\n",
      "  Downloading blinker-1.8.2-py3-none-any.whl.metadata (1.6 kB)\n",
      "Requirement already satisfied: MarkupSafe>=2.0 in /Users/sebastianreyes/Library/Python/3.10/lib/python/site-packages (from Jinja2>=3.1.2->flask) (2.1.1)\n",
      "Downloading flask-3.0.3-py3-none-any.whl (101 kB)\n",
      "Downloading blinker-1.8.2-py3-none-any.whl (9.5 kB)\n",
      "Downloading click-8.1.7-py3-none-any.whl (97 kB)\n",
      "Downloading itsdangerous-2.2.0-py3-none-any.whl (16 kB)\n",
      "Installing collected packages: itsdangerous, click, blinker, flask\n",
      "Successfully installed blinker-1.8.2 click-8.1.7 flask-3.0.3 itsdangerous-2.2.0\n",
      "Note: you may need to restart the kernel to use updated packages.\n"
     ]
    }
   ],
   "source": [
    "pip install flask"
   ]
  },
  {
   "cell_type": "code",
   "execution_count": 19,
   "metadata": {},
   "outputs": [
    {
     "name": "stdout",
     "output_type": "stream",
     "text": [
      "Requirement already satisfied: gunicorn in /Library/Frameworks/Python.framework/Versions/3.10/lib/python3.10/site-packages (23.0.0)\n",
      "Requirement already satisfied: packaging in /Library/Frameworks/Python.framework/Versions/3.10/lib/python3.10/site-packages (from gunicorn) (24.1)\n",
      "Note: you may need to restart the kernel to use updated packages.\n"
     ]
    }
   ],
   "source": [
    "\n",
    "pip install gunicorn"
   ]
  },
  {
   "cell_type": "code",
   "execution_count": 23,
   "metadata": {},
   "outputs": [],
   "source": [
    "from flask import Flask, request, jsonify\n",
    "import pickle\n",
    "\n",
    "# Initialize Flask app\n",
    "app = Flask('credit_scoring')\n",
    "\n",
    "# Load the saved model and DictVectorizer when the app starts\n",
    "def load_models():\n",
    "    with open('model1.bin', 'rb') as f_model:\n",
    "        model = pickle.load(f_model)\n",
    "    with open('dv.bin', 'rb') as f_dv:\n",
    "        dv = pickle.load(f_dv)\n",
    "    return model, dv\n",
    "\n",
    "# Load models globally\n",
    "model, dv = load_models()\n",
    "\n",
    "@app.route('/predict', methods=['POST'])\n",
    "def predict():\n",
    "    # Get client data from the request\n",
    "    client = request.get_json()\n",
    "    \n",
    "    # Prepare the data using the DictVectorizer\n",
    "    X = dv.transform([client])\n",
    "    \n",
    "    # Make prediction using the model\n",
    "    prediction = model.predict_proba(X)[0, 1]\n",
    "    \n",
    "    # Return the result as JSON\n",
    "    result = {\n",
    "        'probability': float(prediction),\n",
    "        'probability_percentage': f\"{prediction * 100:.2f}%\"\n",
    "    }\n",
    "    \n",
    "    return jsonify(result)\n",
    "\n",
    "@app.route('/ping', methods=['GET'])\n",
    "def ping():\n",
    "    return jsonify({'status': 'ok'})"
   ]
  },
  {
   "cell_type": "code",
   "execution_count": 22,
   "metadata": {},
   "outputs": [
    {
     "ename": "SyntaxError",
     "evalue": "invalid syntax (2854942830.py, line 1)",
     "output_type": "error",
     "traceback": [
      "\u001b[0;36m  Cell \u001b[0;32mIn [22], line 1\u001b[0;36m\u001b[0m\n\u001b[0;31m    gunicorn --bind 0.0.0.0:9696 predict:app\u001b[0m\n\u001b[0m                    ^\u001b[0m\n\u001b[0;31mSyntaxError\u001b[0m\u001b[0;31m:\u001b[0m invalid syntax\n"
     ]
    }
   ],
   "source": [
    "gunicorn --bind 0.0.0.0:9696 predict:app"
   ]
  },
  {
   "cell_type": "markdown",
   "metadata": {},
   "source": [
    "# Question 5"
   ]
  },
  {
   "cell_type": "code",
   "execution_count": 24,
   "metadata": {},
   "outputs": [
    {
     "name": "stdout",
     "output_type": "stream",
     "text": [
      "Collecting docker\n",
      "  Downloading docker-7.1.0-py3-none-any.whl.metadata (3.8 kB)\n",
      "Requirement already satisfied: requests>=2.26.0 in /Library/Frameworks/Python.framework/Versions/3.10/lib/python3.10/site-packages (from docker) (2.32.3)\n",
      "Requirement already satisfied: urllib3>=1.26.0 in /Library/Frameworks/Python.framework/Versions/3.10/lib/python3.10/site-packages (from docker) (2.2.3)\n",
      "Requirement already satisfied: charset-normalizer<4,>=2 in /Library/Frameworks/Python.framework/Versions/3.10/lib/python3.10/site-packages (from requests>=2.26.0->docker) (3.3.2)\n",
      "Requirement already satisfied: idna<4,>=2.5 in /Library/Frameworks/Python.framework/Versions/3.10/lib/python3.10/site-packages (from requests>=2.26.0->docker) (3.10)\n",
      "Requirement already satisfied: certifi>=2017.4.17 in /Library/Frameworks/Python.framework/Versions/3.10/lib/python3.10/site-packages (from requests>=2.26.0->docker) (2024.8.30)\n",
      "Downloading docker-7.1.0-py3-none-any.whl (147 kB)\n",
      "Installing collected packages: docker\n",
      "Successfully installed docker-7.1.0\n",
      "Note: you may need to restart the kernel to use updated packages.\n"
     ]
    }
   ],
   "source": [
    "pip install docker"
   ]
  },
  {
   "cell_type": "code",
   "execution_count": 27,
   "metadata": {},
   "outputs": [
    {
     "name": "stdout",
     "output_type": "stream",
     "text": [
      "Installing Docker SDK for Python...\n",
      "Requirement already satisfied: docker in /Library/Frameworks/Python.framework/Versions/3.10/lib/python3.10/site-packages (7.1.0)\n",
      "Requirement already satisfied: requests>=2.26.0 in /Library/Frameworks/Python.framework/Versions/3.10/lib/python3.10/site-packages (from docker) (2.32.3)\n",
      "Requirement already satisfied: urllib3>=1.26.0 in /Library/Frameworks/Python.framework/Versions/3.10/lib/python3.10/site-packages (from docker) (2.2.3)\n",
      "Requirement already satisfied: charset-normalizer<4,>=2 in /Library/Frameworks/Python.framework/Versions/3.10/lib/python3.10/site-packages (from requests>=2.26.0->docker) (3.3.2)\n",
      "Requirement already satisfied: idna<4,>=2.5 in /Library/Frameworks/Python.framework/Versions/3.10/lib/python3.10/site-packages (from requests>=2.26.0->docker) (3.10)\n",
      "Requirement already satisfied: certifi>=2017.4.17 in /Library/Frameworks/Python.framework/Versions/3.10/lib/python3.10/site-packages (from requests>=2.26.0->docker) (2024.8.30)\n",
      "\n",
      "Verifying installation...\n",
      "Error: Error while fetching server API version: ('Connection aborted.', FileNotFoundError(2, 'No such file or directory'))\n"
     ]
    }
   ],
   "source": [
    "import subprocess\n",
    "import sys\n",
    "\n",
    "def install_and_test_docker():\n",
    "    try:\n",
    "        # Install docker SDK for Python\n",
    "        print(\"Installing Docker SDK for Python...\")\n",
    "        subprocess.check_call([sys.executable, \"-m\", \"pip\", \"install\", \"docker\"])\n",
    "        \n",
    "        # Verify installation\n",
    "        print(\"\\nVerifying installation...\")\n",
    "        import docker\n",
    "        \n",
    "        # Try to connect to Docker daemon\n",
    "        client = docker.from_env()\n",
    "        \n",
    "        # Get Docker version\n",
    "        version = client.version()\n",
    "        print(\"\\nDocker installation successful!\")\n",
    "        print(f\"Docker version: {version['Version']}\")\n",
    "        print(f\"API version: {version['ApiVersion']}\")\n",
    "        \n",
    "        # List containers\n",
    "        print(\"\\nActive containers:\")\n",
    "        for container in client.containers.list():\n",
    "            print(f\"- {container.name}\")\n",
    "        \n",
    "    except subprocess.CalledProcessError as e:\n",
    "        print(f\"Error during installation: {str(e)}\")\n",
    "    except Exception as e:\n",
    "        print(f\"Error: {str(e)}\")\n",
    "\n",
    "if __name__ == \"__main__\":\n",
    "    install_and_test_docker()"
   ]
  },
  {
   "cell_type": "code",
   "execution_count": 33,
   "metadata": {},
   "outputs": [
    {
     "name": "stdout",
     "output_type": "stream",
     "text": [
      "Checking Docker connection...\n",
      "Docker is running!\n",
      "\n",
      "Pulling image svizor/zoomcamp-model:3.11.5-slim...\n",
      "Image pulled successfully!\n",
      "Image size: 124.45 MB\n"
     ]
    }
   ],
   "source": [
    "import docker\n",
    "import time\n",
    "\n",
    "def check_docker_status():\n",
    "    try:\n",
    "        # Initialize Docker client\n",
    "        print(\"Checking Docker connection...\")\n",
    "        client = docker.from_env()\n",
    "        \n",
    "        # Test connection\n",
    "        client.ping()\n",
    "        print(\"Docker is running!\")\n",
    "        \n",
    "        # Now try to pull the image\n",
    "        image_name = \"svizor/zoomcamp-model:3.11.5-slim\"\n",
    "        print(f\"\\nPulling image {image_name}...\")\n",
    "        image = client.images.pull(image_name)\n",
    "        \n",
    "        # Get image size\n",
    "        size_bytes = image.attrs['Size']\n",
    "        size_mb = size_bytes / (1024 * 1024)  # Convert to MB\n",
    "        \n",
    "        print(f\"Image pulled successfully!\")\n",
    "        print(f\"Image size: {size_mb:.2f} MB\")\n",
    "        \n",
    "    except docker.errors.DockerException as e:\n",
    "        print(\"Error: Docker is not running. Please start Docker Desktop first.\")\n",
    "        print(\"If Docker Desktop is not installed, please install it from:\")\n",
    "        print(\"https://www.docker.com/products/docker-desktop/\")\n",
    "    except Exception as e:\n",
    "        print(f\"Error: {str(e)}\")\n",
    "\n",
    "if __name__ == \"__main__\":\n",
    "    check_docker_status()"
   ]
  }
 ],
 "metadata": {
  "kernelspec": {
   "display_name": "Python 3",
   "language": "python",
   "name": "python3"
  },
  "language_info": {
   "codemirror_mode": {
    "name": "ipython",
    "version": 3
   },
   "file_extension": ".py",
   "mimetype": "text/x-python",
   "name": "python",
   "nbconvert_exporter": "python",
   "pygments_lexer": "ipython3",
   "version": "3.10.7"
  }
 },
 "nbformat": 4,
 "nbformat_minor": 2
}
